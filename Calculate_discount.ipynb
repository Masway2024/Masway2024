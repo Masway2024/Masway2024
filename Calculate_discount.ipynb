{
  "nbformat": 4,
  "nbformat_minor": 0,
  "metadata": {
    "colab": {
      "provenance": [],
      "authorship_tag": "ABX9TyO/93ZI+3VB28joMnCgFxQN",
      "include_colab_link": true
    },
    "kernelspec": {
      "name": "python3",
      "display_name": "Python 3"
    },
    "language_info": {
      "name": "python"
    }
  },
  "cells": [
    {
      "cell_type": "markdown",
      "metadata": {
        "id": "view-in-github",
        "colab_type": "text"
      },
      "source": [
        "<a href=\"https://colab.research.google.com/github/Masway2024/Masway2024/blob/main/Calculate_discount.ipynb\" target=\"_parent\"><img src=\"https://colab.research.google.com/assets/colab-badge.svg\" alt=\"Open In Colab\"/></a>"
      ]
    },
    {
      "cell_type": "code",
      "execution_count": 1,
      "metadata": {
        "colab": {
          "base_uri": "https://localhost:8080/"
        },
        "id": "8zOTRk_Zo5Kh",
        "outputId": "277a9c11-c2b0-4526-847a-98bbfa13322e"
      },
      "outputs": [
        {
          "output_type": "stream",
          "name": "stdout",
          "text": [
            "Enter the original price of the item: 2000\n",
            "Enter the discount percentage: 20\n",
            "Final price after applying the discount: 1600.0\n"
          ]
        }
      ],
      "source": [
        "\n",
        "def calculate_discount(price, discount_percent):\n",
        "    if discount_percent >= 20:\n",
        "        discounted_price = price - (price * (discount_percent / 100))\n",
        "        return discounted_price\n",
        "    else:\n",
        "        return price\n",
        "\n",
        "# Prompting the user to enter the original price and discount percentage\n",
        "original_price = float(input(\"Enter the original price of the item: \"))\n",
        "discount_percent = float(input(\"Enter the discount percentage: \"))\n",
        "\n",
        "# Calculating the final price using the calculate_discount function\n",
        "final_price = calculate_discount(original_price, discount_percent)\n",
        "\n",
        "# Printing the final price after applying the discount\n",
        "if final_price == original_price:\n",
        "    print(\"No discount applied. Final price:\", final_price)\n",
        "else:\n",
        "    print(\"Final price after applying the discount:\", final_price)"
      ]
    }
  ]
}