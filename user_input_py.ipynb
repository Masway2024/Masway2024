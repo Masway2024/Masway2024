{
  "nbformat": 4,
  "nbformat_minor": 0,
  "metadata": {
    "colab": {
      "provenance": [],
      "authorship_tag": "ABX9TyNiTgS2A8siw7h3+GlumqHC",
      "include_colab_link": true
    },
    "kernelspec": {
      "name": "python3",
      "display_name": "Python 3"
    },
    "language_info": {
      "name": "python"
    }
  },
  "cells": [
    {
      "cell_type": "markdown",
      "metadata": {
        "id": "view-in-github",
        "colab_type": "text"
      },
      "source": [
        "<a href=\"https://colab.research.google.com/github/Masway2024/Masway2024/blob/main/user_input_py.ipynb\" target=\"_parent\"><img src=\"https://colab.research.google.com/assets/colab-badge.svg\" alt=\"Open In Colab\"/></a>"
      ]
    },
    {
      "cell_type": "code",
      "execution_count": 7,
      "metadata": {
        "colab": {
          "base_uri": "https://localhost:8080/"
        },
        "id": "hnK2yDa1avGL",
        "outputId": "0b1f54d5-4a99-4cb1-99e2-f37aabc0401c"
      },
      "outputs": [
        {
          "output_type": "stream",
          "name": "stdout",
          "text": [
            "Hello!\n",
            "Vincent Kiplangat\n",
            "22\n",
            "Nairobi\n"
          ]
        }
      ],
      "source": [
        "name=(\"Vincent Kiplangat\")\n",
        "age=(\"22\")\n",
        "location=(\"Nairobi\")\n",
        "print(\"Hello!\")\n",
        "print(name)\n",
        "print(age)\n",
        "print(location)"
      ]
    }
  ]
}